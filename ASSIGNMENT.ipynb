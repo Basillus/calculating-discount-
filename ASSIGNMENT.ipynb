{
 "cells": [
  {
   "cell_type": "code",
   "execution_count": 1,
   "id": "b586a7b9-6a25-40f4-b683-4605b72df404",
   "metadata": {},
   "outputs": [],
   "source": [
    "#### TO CALCULATE THE DISCOUNT OF AN ITEM\n",
    "## Discount = cost - cost * discount/100"
   ]
  },
  {
   "cell_type": "code",
   "execution_count": 2,
   "id": "ad73ba51-5786-4666-8082-9dbfa06378fb",
   "metadata": {},
   "outputs": [
    {
     "name": "stdin",
     "output_type": "stream",
     "text": [
      "Enter cost amount:  35000\n",
      "Enter discount percentage:  10\n"
     ]
    },
    {
     "name": "stdout",
     "output_type": "stream",
     "text": [
      "After discount the cost is:  31500.0\n"
     ]
    }
   ],
   "source": [
    "cost = int(input('Enter cost amount: '))\n",
    "discount = int(input('Enter discount percentage: '))\n",
    "output = cost- (cost * discount / 100)\n",
    "\n",
    "print('After discount the cost is: ', output)"
   ]
  },
  {
   "cell_type": "code",
   "execution_count": null,
   "id": "d924f922-bea3-40be-a109-e09789fd5592",
   "metadata": {},
   "outputs": [],
   "source": []
  }
 ],
 "metadata": {
  "kernelspec": {
   "display_name": "Python 3 (ipykernel)",
   "language": "python",
   "name": "python3"
  },
  "language_info": {
   "codemirror_mode": {
    "name": "ipython",
    "version": 3
   },
   "file_extension": ".py",
   "mimetype": "text/x-python",
   "name": "python",
   "nbconvert_exporter": "python",
   "pygments_lexer": "ipython3",
   "version": "3.11.7"
  }
 },
 "nbformat": 4,
 "nbformat_minor": 5
}
